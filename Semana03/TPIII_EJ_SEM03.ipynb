{
 "cells": [
  {
   "cell_type": "code",
   "execution_count": 1,
   "id": "a8b5215b-d329-4510-a45b-fbb462df12b8",
   "metadata": {},
   "outputs": [
    {
     "name": "stdout",
     "output_type": "stream",
     "text": [
      "IDENTIFICADOR DE APELLIDO EN LISTA\n"
     ]
    },
    {
     "name": "stdin",
     "output_type": "stream",
     "text": [
      "Por favor, ingrese el apellido a buscar en lista: bernal\n"
     ]
    },
    {
     "name": "stdout",
     "output_type": "stream",
     "text": [
      "Apellido a buscar: BERNAL\n",
      "El alumno se encuentra en la lista\n"
     ]
    }
   ],
   "source": [
    "print('IDENTIFICADOR DE APELLIDO EN LISTA')\n",
    "apellido=input('Por favor, ingrese el apellido a buscar en lista:')\n",
    "name=apellido.upper()\n",
    "print(f'Apellido a buscar: {name}')\n",
    "lista=['BERNAL', 'BERNAOLA', 'CABALLERO', 'CALDERON', 'CARRASCO', 'CENTENO', 'CHALQUE', 'CHAVEZ', 'CONDORI', 'CRUZ', 'PALACIOS', 'PALOMINO', 'QUISPE', 'RAMOS', 'RODAS', 'SILVERA', 'TALAVERA', 'TINEO', 'VICTORIO', 'VILCA', 'ZEA']\n",
    "\n",
    "boolean=0\n",
    "\n",
    "for i in lista:\n",
    "    if i==name:\n",
    "        boolean=1\n",
    "\n",
    "if boolean:\n",
    "    print('El alumno se encuentra en la lista')\n",
    "else:\n",
    "    print('El alumno no se encuentra en la lista')"
   ]
  },
  {
   "cell_type": "code",
   "execution_count": null,
   "id": "4367df89-63a2-469a-badd-5fc4d077ccf5",
   "metadata": {},
   "outputs": [],
   "source": []
  }
 ],
 "metadata": {
  "kernelspec": {
   "display_name": "Python [conda env:base] *",
   "language": "python",
   "name": "conda-base-py"
  },
  "language_info": {
   "codemirror_mode": {
    "name": "ipython",
    "version": 3
   },
   "file_extension": ".py",
   "mimetype": "text/x-python",
   "name": "python",
   "nbconvert_exporter": "python",
   "pygments_lexer": "ipython3",
   "version": "3.12.7"
  }
 },
 "nbformat": 4,
 "nbformat_minor": 5
}
