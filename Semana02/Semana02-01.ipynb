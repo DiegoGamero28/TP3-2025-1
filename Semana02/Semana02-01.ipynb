{
 "cells": [
  {
   "cell_type": "markdown",
   "id": "848186c1-35e5-415a-a127-d3d4d7e1e2a2",
   "metadata": {},
   "source": [
    "# Semana 02\n",
    "Diego Gamero"
   ]
  },
  {
   "cell_type": "markdown",
   "id": "53b60b65-0cd8-43c5-8f9a-db31c86640b5",
   "metadata": {},
   "source": [
    "Temas\n",
    "\n",
    "1.- Colecciones de datos\n",
    "2.- Estructuras decisivas y repetitivas\n",
    "3.- Clases y objetos\n",
    "4.- Funciones"
   ]
  },
  {
   "cell_type": "code",
   "execution_count": 3,
   "id": "2015fff2-fcf1-46d4-be8c-87fc39b64fc7",
   "metadata": {},
   "outputs": [
    {
     "name": "stdout",
     "output_type": "stream",
     "text": [
      "['Gamero', 'Cabanillas', 'León']\n"
     ]
    }
   ],
   "source": [
    "#Listas\n",
    "aula=['Gamero', 'Cabanillas', 'León']\n",
    "print(aula)"
   ]
  },
  {
   "cell_type": "code",
   "execution_count": 6,
   "id": "adba7363-eec9-474a-83a4-8e2f4149d83e",
   "metadata": {},
   "outputs": [
    {
     "name": "stdout",
     "output_type": "stream",
     "text": [
      "Gamero\n",
      "Cabanillas\n"
     ]
    }
   ],
   "source": [
    "print(aula[0])\n",
    "print(aula[1])"
   ]
  },
  {
   "cell_type": "code",
   "execution_count": 8,
   "id": "f5c63393-3b61-438a-8a18-d59016b2f73e",
   "metadata": {},
   "outputs": [],
   "source": [
    "aula[1]='Chavez'"
   ]
  },
  {
   "cell_type": "code",
   "execution_count": 10,
   "id": "48d3ddc9-bff2-4170-b31e-646fe72ec401",
   "metadata": {},
   "outputs": [
    {
     "data": {
      "text/plain": [
       "['Gamero', 'Chavez', 'León']"
      ]
     },
     "execution_count": 10,
     "metadata": {},
     "output_type": "execute_result"
    }
   ],
   "source": [
    "aula"
   ]
  },
  {
   "cell_type": "code",
   "execution_count": 12,
   "id": "c8827838-bf8e-4530-9b10-71021432e84c",
   "metadata": {},
   "outputs": [
    {
     "data": {
      "text/plain": [
       "['Gamero', 'Chavez', 'León', 'Ramos', 'Gomez']"
      ]
     },
     "execution_count": 12,
     "metadata": {},
     "output_type": "execute_result"
    }
   ],
   "source": [
    "aula.append('Ramos')\n",
    "aula.append('Gomez')\n",
    "aula"
   ]
  },
  {
   "cell_type": "code",
   "execution_count": null,
   "id": "376bb902-cd17-43e4-ab1a-d78ddf523ee6",
   "metadata": {},
   "outputs": [],
   "source": []
  }
 ],
 "metadata": {
  "kernelspec": {
   "display_name": "Python [conda env:base] *",
   "language": "python",
   "name": "conda-base-py"
  },
  "language_info": {
   "codemirror_mode": {
    "name": "ipython",
    "version": 3
   },
   "file_extension": ".py",
   "mimetype": "text/x-python",
   "name": "python",
   "nbconvert_exporter": "python",
   "pygments_lexer": "ipython3",
   "version": "3.12.7"
  }
 },
 "nbformat": 4,
 "nbformat_minor": 5
}
